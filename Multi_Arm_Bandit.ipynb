{
  "nbformat": 4,
  "nbformat_minor": 0,
  "metadata": {
    "colab": {
      "name": "Multi-Arm-Bandit.ipynb",
      "version": "0.3.2",
      "provenance": []
    },
    "language_info": {
      "codemirror_mode": {
        "name": "ipython",
        "version": 3
      },
      "file_extension": ".py",
      "mimetype": "text/x-python",
      "name": "python",
      "nbconvert_exporter": "python",
      "pygments_lexer": "ipython3",
      "version": "3.6.4"
    },
    "kernelspec": {
      "display_name": "Python 3",
      "language": "python",
      "name": "python3"
    }
  },
  "cells": [
    {
      "cell_type": "markdown",
      "metadata": {
        "id": "a1g2n9wNhwTc",
        "colab_type": "text"
      },
      "source": [
        "# Multi-Armed Bandit\n",
        "\n",
        "Reinforcement Learning comes with its own classic example - the Multi-Armed Bandit problem. Never heard? \n",
        "\n",
        "* Assume you're at a casino and in a section with some slot machines. \n",
        "* Let's say you're at a section with 10 slot machines in a row and it says \"Play for free! \n",
        "* Max payout is 10 dollars\" \n",
        "* Each slot machine is guaranteed to give you a reward between 0 and 10 dollars. \n",
        "* Each slot machine has a different average payout, \n",
        "* You don't have previous information about the machines,\n",
        "* GOAL: You have to figure out which one gives the most average reward so that you can maximize your reward in the shortest time possible. Formerly you need to decide which machines to play and the order. \n",
        "\n",
        "### Strategy\n",
        "\n",
        "One very obvious approach would be to pull the same lever every time. The probability of hitting the jackpot being very low, you'd mostly be losing money by doing this. **Formally, this can be defined as a pure exploitation approach.**\n",
        "\n",
        "Alternatively, you could pull the lever of each slot machine in hopes that at least one of them would hit the jackpot. This is another naive approach which would give you sub-optimal returns. **Formally this approach is a pure exploration approach.**\n",
        "\n",
        "### $ϵ $(epsilon)-greedy algorithm\n",
        "\n",
        "One very famous approach to solving reinforcement learning problems is the ϵ (epsilon)-greedy algorithm, such that, with a probability $ϵ$: \n",
        "\n",
        "> you will choose an action a at random (exploration), and the rest of the time (probability 1−ϵ) you will select the best lever based on what you currently know from past plays (exploitation). So most of the time you play greedy, but sometimes you take some risks and choose a random lever and see what happens.\n",
        "\n",
        "### # STRATEGY 1:  \n",
        "\n",
        "for each arm, you run a loop of 10 iterations, and generate a random float every time.  If this random number is less than the probability of that arm, you'll add a 1 to the reward"
      ]
    },
    {
      "cell_type": "code",
      "metadata": {
        "id": "FnUn9ciH56xi",
        "colab_type": "code",
        "outputId": "2f67e1d4-0cbc-4511-bfcf-3453013274f2",
        "colab": {
          "base_uri": "https://localhost:8080/",
          "height": 283
        }
      },
      "source": [
        "%matplotlib inline\n",
        "import numpy as np\n",
        "from scipy import stats\n",
        "import random\n",
        "import matplotlib.pyplot as plt\n",
        "np.random.seed(5)\n",
        "\n",
        "\n",
        "# You'll be solving the 10-armed bandit problem, hence n = 10\n",
        "# SETTINGS\n",
        "n = 10\n",
        "arms = np.random.rand(n) # returns a number from 1 to 10\n",
        "eps = 0.1 # epsilon (probability of random choice of a lever, so it unleash the exploration)\n",
        "\n",
        "\n",
        "# REWARD: USE THE MEAN\n",
        "def reward(prob):\n",
        "\n",
        "    reward = 0\n",
        "    for i in range(10):\n",
        "        if random.random() < prob:\n",
        "            reward += 1\n",
        "    return reward\n",
        "\n",
        "# Keep a history of all actions and their rewards  \n",
        "# Initialize memory array; has 1 row defaulted to random action index\n",
        "# It is a 2 x k matrix where each row is an index reference to your arms array (1st element), and the reward received (2nd element). \n",
        "# For example, if a row in your memory array is [2, 8], \n",
        "# it means that action 2 was taken (the 3rd element in our arms array) and you received a reward of 8 for taking that action.\n",
        "\n",
        "av = np.array([np.random.randint(0,(n+1)), 0]).reshape(1,2) #av = action-value\n",
        "\n",
        "\n",
        "# Greedy method to select best arm based on memory array\n",
        "def bestArm(a):\n",
        "    bestArm = 0\n",
        "    bestMean = 0\n",
        "    for u in a:\n",
        "        avg = np.mean(a[np.where(a[:,0] == u[0])][:,1])\n",
        "        if bestMean < avg:\n",
        "            bestMean = avg\n",
        "            bestArm = u[0]\n",
        "    return bestArm\n",
        "\n",
        "  \n",
        "## PLOT of the rewards overtime\n",
        "plt.xlabel(\"Plays\")\n",
        "plt.ylabel(\"Avg Reward\")\n",
        "\n",
        "# Let's say we play 500 times\n",
        "for i in range(500):\n",
        "    if random.random() > eps: #greedy arm selection (Exploitation)\n",
        "        choice = bestArm(av)\n",
        "        thisAV = np.array([[choice, reward(arms[choice])]])\n",
        "        av = np.concatenate((av, thisAV), axis=0) \n",
        "        \n",
        "    else: #random arm selection (Exploration)\n",
        "        choice = np.where(arms == np.random.choice(arms))[0][0]\n",
        "        thisAV = np.array([[choice, reward(arms[choice])]]) #choice, reward \n",
        "        av = np.concatenate((av, thisAV), axis=0) #add to our action-value memory array\n",
        "        \n",
        "    #calculate the percentage the correct arm is chosen (you can plot this instead of reward)\n",
        "    percCorrect = 100*(len(av[np.where(av[:,0] == np.argmax(arms))])/len(av)*1.0)\n",
        "    \n",
        "    #calculate the mean reward\n",
        "    runningMean = np.mean(av[:,1])\n",
        "    \n",
        "    \n",
        "    plt.scatter(i, runningMean)\n"
      ],
      "execution_count": 14,
      "outputs": [
        {
          "output_type": "display_data",
          "data": {
            "image/png": "[encoded data removed]",
            "text/plain": [
              "<Figure size 432x288 with 1 Axes>"
            ]
          },
          "metadata": {
            "tags": []
          }
        }
      ]
    },
    {
      "cell_type": "markdown",
      "metadata": {
        "id": "3MDQkNeR5zVG",
        "colab_type": "text"
      },
      "source": [
        "As expected, your agent learns to choose the arm which gives it the maximum average reward after several iterations of gameplay. \n",
        "\n",
        "Thus, you've implemented a straightforward reinforcement learning algorithm to solve the Multi-Arm Bandit problem.   \n",
        "\n",
        "###  STRATEGY 2: \n",
        "Simpler version using Welford's method to calculate the average Qt+1 = Qt + (kt - Qt)/n"
      ]
    },
    {
      "cell_type": "code",
      "metadata": {
        "id": "u3H4U-uuhuXL",
        "colab_type": "code",
        "outputId": "984e9ef1-5a83-42dd-e292-82fd0b370798",
        "colab": {
          "base_uri": "https://localhost:8080/",
          "height": 283
        }
      },
      "source": [
        "\n",
        "n = 10\n",
        "arms = np.random.rand(n) # a probability vector of 10 elements\n",
        "eps = 0.1\n",
        "\n",
        "av = np.ones(n) #initialize action-value array\n",
        "counts = np.zeros(n) #stores counts of how many times we've taken a particular action\n",
        "\n",
        "def reward(prob):\n",
        "    total = 0;\n",
        "    for i in range(10):\n",
        "        if random.random() < prob:\n",
        "            total += 1\n",
        "    return total\n",
        "\n",
        "#our bestArm function is much simpler now\n",
        "def bestArm(a):\n",
        "    return np.argmax(a) #returns index of element with greatest value\n",
        "\n",
        "plt.xlabel(\"Plays\")\n",
        "plt.ylabel(\"Mean Reward\")\n",
        "\n",
        "for i in range(500):\n",
        "    if random.random() > eps:\n",
        "        choice = bestArm(av)\n",
        "        counts[choice] += 1\n",
        "        k = counts[choice]\n",
        "        rwd =  reward(arms[choice])\n",
        "        old_avg = av[choice]\n",
        "        new_avg = old_avg + (1/k)*(rwd - old_avg) #update running avg\n",
        "        av[choice] = new_avg\n",
        "        \n",
        "    else:\n",
        "        choice = np.where(arms == np.random.choice(arms))[0][0] #randomly choose an arm (returns index)\n",
        "        counts[choice] += 1\n",
        "        k = counts[choice]\n",
        "        rwd =  reward(arms[choice])\n",
        "        old_avg = av[choice]\n",
        "        new_avg = old_avg + (1/k)*(rwd - old_avg) #update running avg\n",
        "        av[choice] = new_avg\n",
        "        \n",
        "    #have to use np.average and supply the weights to get a weighted average\n",
        "    runningMean = np.average(av, weights=np.array([counts[i]/np.sum(counts) for i in range(len(counts))]))\n",
        "    plt.scatter(i, runningMean)"
      ],
      "execution_count": 2,
      "outputs": [
        {
          "output_type": "display_data",
          "data": {
            "image/png": "[encoded data removed]",
            "text/plain": [
              "<Figure size 432x288 with 1 Axes>"
            ]
          },
          "metadata": {
            "tags": []
          }
        }
      ]
    },
    {
      "cell_type": "markdown",
      "metadata": {
        "id": "a2816wnM6I_m",
        "colab_type": "text"
      },
      "source": [
        "Source: https://www.datacamp.com/community/tutorials/introduction-reinforcement-learning"
      ]
    },
    {
      "cell_type": "code",
      "metadata": {
        "id": "zb5ADjHG8BvN",
        "colab_type": "code",
        "colab": {
          "base_uri": "https://localhost:8080/",
          "height": 119
        },
        "outputId": "bc1ee183-061e-4fa7-9469-b6baa6be558e"
      },
      "source": [
        "# Helps...\n",
        "\n",
        "a = np.arange(2).reshape(1, 2)\n",
        "print(a.shape)\n",
        "b = np.array([[12, 13]])\n",
        "\n",
        "print(a)\n",
        "print(b)\n",
        "\n",
        "\n",
        "print('slicing a: ', a[:,0]) \n",
        "print('slicing b: ', b[:,0])\n",
        "\n",
        "arms =10\n",
        "print(np.random.choice(arms))\n"
      ],
      "execution_count": 37,
      "outputs": [
        {
          "output_type": "stream",
          "text": [
            "(1, 2)\n",
            "[[0 1]]\n",
            "[[12 13]]\n",
            "slicing a:  [0]\n",
            "slicing b:  [12]\n",
            "9\n"
          ],
          "name": "stdout"
        }
      ]
    },
    {
      "cell_type": "code",
      "metadata": {
        "id": "3VPhZbnx8B16",
        "colab_type": "code",
        "colab": {}
      },
      "source": [
        ""
      ],
      "execution_count": 0,
      "outputs": []
    }
  ]
}